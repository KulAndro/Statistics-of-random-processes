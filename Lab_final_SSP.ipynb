{
 "cells": [
  {
   "cell_type": "code",
   "execution_count": 4,
   "id": "0ce81262",
   "metadata": {
    "id": "kqOU7ZzDqzew"
   },
   "outputs": [
    {
     "name": "stdout",
     "output_type": "stream",
     "text": [
      "Collecting git+https://github.com/jkirkby3/pymle.git\n",
      "  Cloning https://github.com/jkirkby3/pymle.git to c:\\users\\user\\appdata\\local\\temp\\pip-req-build-wu69hf07\n",
      "  Resolved https://github.com/jkirkby3/pymle.git to commit 412f74f5201782686f13ed2c60acd07b740c42e8\n",
      "  Installing build dependencies: started\n",
      "  Installing build dependencies: finished with status 'done'\n",
      "  Getting requirements to build wheel: started\n",
      "  Getting requirements to build wheel: finished with status 'done'\n",
      "  Preparing metadata (pyproject.toml): started\n",
      "  Preparing metadata (pyproject.toml): finished with status 'done'\n",
      "Requirement already satisfied: numba in c:\\users\\user\\anaconda3\\lib\\site-packages (from pymle-diffusion==0.0.4) (0.56.4)\n",
      "Requirement already satisfied: setuptools in c:\\users\\user\\anaconda3\\lib\\site-packages (from pymle-diffusion==0.0.4) (59.8.0)\n",
      "Requirement already satisfied: numpy in c:\\users\\user\\anaconda3\\lib\\site-packages (from pymle-diffusion==0.0.4) (1.21.6)\n",
      "Requirement already satisfied: scipy in c:\\users\\user\\anaconda3\\lib\\site-packages (from pymle-diffusion==0.0.4) (1.7.3)\n",
      "Requirement already satisfied: pandas in c:\\users\\user\\anaconda3\\lib\\site-packages (from pymle-diffusion==0.0.4) (1.3.4)\n",
      "Requirement already satisfied: llvmlite<0.40,>=0.39.0dev0 in c:\\users\\user\\anaconda3\\lib\\site-packages (from numba->pymle-diffusion==0.0.4) (0.39.1)\n",
      "Requirement already satisfied: importlib-metadata in c:\\users\\user\\anaconda3\\lib\\site-packages (from numba->pymle-diffusion==0.0.4) (6.6.0)\n",
      "Requirement already satisfied: python-dateutil>=2.7.3 in c:\\users\\user\\anaconda3\\lib\\site-packages (from pandas->pymle-diffusion==0.0.4) (2.8.2)\n",
      "Requirement already satisfied: pytz>=2017.3 in c:\\users\\user\\anaconda3\\lib\\site-packages (from pandas->pymle-diffusion==0.0.4) (2022.1)\n",
      "Requirement already satisfied: six>=1.5 in c:\\users\\user\\anaconda3\\lib\\site-packages (from python-dateutil>=2.7.3->pandas->pymle-diffusion==0.0.4) (1.16.0)\n",
      "Requirement already satisfied: zipp>=0.5 in c:\\users\\user\\anaconda3\\lib\\site-packages (from importlib-metadata->numba->pymle-diffusion==0.0.4) (3.8.0)\n",
      "Requirement already satisfied: typing-extensions>=3.6.4 in c:\\users\\user\\anaconda3\\lib\\site-packages (from importlib-metadata->numba->pymle-diffusion==0.0.4) (4.2.0)\n",
      "Building wheels for collected packages: pymle-diffusion\n",
      "  Building wheel for pymle-diffusion (pyproject.toml): started\n",
      "  Building wheel for pymle-diffusion (pyproject.toml): finished with status 'done'\n",
      "  Created wheel for pymle-diffusion: filename=pymle_diffusion-0.0.4-py3-none-any.whl size=41322 sha256=dbf59d0a3a99f30013aef30e16ae6b4fcac22fd184debd101419c456eb724ff7\n",
      "  Stored in directory: C:\\Users\\User\\AppData\\Local\\Temp\\pip-ephem-wheel-cache-u6pelzth\\wheels\\33\\bd\\7e\\4d4d3ce21d0739c067ca9047f6fb2c7acbb4a8b1321293fbf4\n",
      "Successfully built pymle-diffusion\n",
      "Installing collected packages: pymle-diffusion\n",
      "Successfully installed pymle-diffusion-0.0.4\n"
     ]
    },
    {
     "name": "stderr",
     "output_type": "stream",
     "text": [
      "WARNING: Ignoring invalid distribution -heel (c:\\users\\user\\anaconda3\\lib\\site-packages)\n",
      "WARNING: Ignoring invalid distribution -rotobuf (c:\\users\\user\\anaconda3\\lib\\site-packages)\n",
      "  Running command git clone --filter=blob:none --quiet https://github.com/jkirkby3/pymle.git 'C:\\Users\\User\\AppData\\Local\\Temp\\pip-req-build-wu69hf07'\n",
      "WARNING: Ignoring invalid distribution -heel (c:\\users\\user\\anaconda3\\lib\\site-packages)\n",
      "WARNING: Ignoring invalid distribution -rotobuf (c:\\users\\user\\anaconda3\\lib\\site-packages)\n"
     ]
    },
    {
     "name": "stdout",
     "output_type": "stream",
     "text": [
      "Collecting git+https://github.com/jkirkby3/pymle.git\n",
      "  Cloning https://github.com/jkirkby3/pymle.git to c:\\users\\user\\appdata\\local\\temp\\pip-req-build-j6lr2ir8\n",
      "  Resolved https://github.com/jkirkby3/pymle.git to commit 412f74f5201782686f13ed2c60acd07b740c42e8\n",
      "  Installing build dependencies: started\n",
      "  Installing build dependencies: finished with status 'done'\n",
      "  Getting requirements to build wheel: started\n",
      "  Getting requirements to build wheel: finished with status 'done'\n",
      "  Preparing metadata (pyproject.toml): started\n",
      "  Preparing metadata (pyproject.toml): finished with status 'done'\n",
      "Requirement already satisfied: numba in c:\\users\\user\\anaconda3\\lib\\site-packages (from pymle-diffusion==0.0.4) (0.56.4)\n",
      "Requirement already satisfied: setuptools in c:\\users\\user\\anaconda3\\lib\\site-packages (from pymle-diffusion==0.0.4) (59.8.0)\n",
      "Requirement already satisfied: numpy in c:\\users\\user\\anaconda3\\lib\\site-packages (from pymle-diffusion==0.0.4) (1.21.6)\n",
      "Requirement already satisfied: scipy in c:\\users\\user\\anaconda3\\lib\\site-packages (from pymle-diffusion==0.0.4) (1.7.3)\n",
      "Requirement already satisfied: pandas in c:\\users\\user\\anaconda3\\lib\\site-packages (from pymle-diffusion==0.0.4) (1.3.4)\n",
      "Requirement already satisfied: llvmlite<0.40,>=0.39.0dev0 in c:\\users\\user\\anaconda3\\lib\\site-packages (from numba->pymle-diffusion==0.0.4) (0.39.1)\n",
      "Requirement already satisfied: importlib-metadata in c:\\users\\user\\anaconda3\\lib\\site-packages (from numba->pymle-diffusion==0.0.4) (6.6.0)\n",
      "Requirement already satisfied: python-dateutil>=2.7.3 in c:\\users\\user\\anaconda3\\lib\\site-packages (from pandas->pymle-diffusion==0.0.4) (2.8.2)\n",
      "Requirement already satisfied: pytz>=2017.3 in c:\\users\\user\\anaconda3\\lib\\site-packages (from pandas->pymle-diffusion==0.0.4) (2022.1)\n",
      "Requirement already satisfied: six>=1.5 in c:\\users\\user\\anaconda3\\lib\\site-packages (from python-dateutil>=2.7.3->pandas->pymle-diffusion==0.0.4) (1.16.0)\n",
      "Requirement already satisfied: zipp>=0.5 in c:\\users\\user\\anaconda3\\lib\\site-packages (from importlib-metadata->numba->pymle-diffusion==0.0.4) (3.8.0)\n",
      "Requirement already satisfied: typing-extensions>=3.6.4 in c:\\users\\user\\anaconda3\\lib\\site-packages (from importlib-metadata->numba->pymle-diffusion==0.0.4) (4.2.0)\n",
      "Building wheels for collected packages: pymle-diffusion\n",
      "  Building wheel for pymle-diffusion (pyproject.toml): started\n",
      "  Building wheel for pymle-diffusion (pyproject.toml): finished with status 'done'\n",
      "  Created wheel for pymle-diffusion: filename=pymle_diffusion-0.0.4-py3-none-any.whl size=41322 sha256=35b923e055dc9375180e0770cbad46d842a4b85470fc08ccb6164e965a5dff39\n",
      "  Stored in directory: C:\\Users\\User\\AppData\\Local\\Temp\\pip-ephem-wheel-cache-gdt_euu4\\wheels\\33\\bd\\7e\\4d4d3ce21d0739c067ca9047f6fb2c7acbb4a8b1321293fbf4\n",
      "Successfully built pymle-diffusion\n",
      "Installing collected packages: pymle-diffusion\n",
      "Successfully installed pymle-diffusion-0.0.4\n"
     ]
    },
    {
     "name": "stderr",
     "output_type": "stream",
     "text": [
      "WARNING: Ignoring invalid distribution -heel (c:\\users\\user\\anaconda3\\lib\\site-packages)\n",
      "WARNING: Ignoring invalid distribution -rotobuf (c:\\users\\user\\anaconda3\\lib\\site-packages)\n",
      "  Running command git clone --filter=blob:none --quiet https://github.com/jkirkby3/pymle.git 'C:\\Users\\User\\AppData\\Local\\Temp\\pip-req-build-j6lr2ir8'\n",
      "WARNING: Ignoring invalid distribution -heel (c:\\users\\user\\anaconda3\\lib\\site-packages)\n",
      "WARNING: Ignoring invalid distribution -rotobuf (c:\\users\\user\\anaconda3\\lib\\site-packages)\n"
     ]
    }
   ],
   "source": [
    "!pip install git+https://github.com/jkirkby3/pymle.git"
   ]
  },
  {
   "cell_type": "code",
   "execution_count": 5,
   "id": "e5b5cf92",
   "metadata": {
    "id": "e5b5cf92"
   },
   "outputs": [],
   "source": [
    "import numpy as np\n",
    "import numpy.random as rnd\n",
    "import matplotlib.pyplot as plt\n",
    "import pandas as pd\n",
    "import time\n",
    "import numpy as np, scipy.stats as st\n",
    "\n",
    "from scipy.stats import norm\n",
    "from tqdm import tqdm\n",
    "from pymle.models import CIR, CKLS, OrnsteinUhlenbeck\n",
    "from pymle.sim.Simulator1D import Simulator1D\n",
    "from pymle.core.TransitionDensity import ExactDensity, KesslerDensity, OzakiDensity, EulerDensity, ShojiOzakiDensity\n",
    "from pymle.fit.AnalyticalMLE import AnalyticalMLE"
   ]
  },
  {
   "cell_type": "code",
   "execution_count": 6,
   "id": "900b97e5",
   "metadata": {
    "id": "900b97e5"
   },
   "outputs": [],
   "source": [
    "# Define auxiliary function to find minimal value\n",
    "def argmin(iterable):\n",
    "    return min(enumerate(iterable), key=lambda x: x[1])[0]"
   ]
  },
  {
   "cell_type": "markdown",
   "id": "4rzss_6sxz8u",
   "metadata": {
    "id": "4rzss_6sxz8u"
   },
   "source": [
    "Task 1. Constant Maturity Interest Rates. Fit models (CEV, CIR, OU, CKLS) to a sample of historical interest rates over the period Jan 1, 1962 to till now. Plot the historical daily time series and three time-discretization\n",
    "benchmarks:\n",
    "*   Kessler method,\n",
    "*   Shoji-Ozaki method,\n",
    "*   Euler method\n",
    "\n",
    "using MLE approach.\n",
    "\n",
    "The estimated parameters display in a table for each method. Calculate the AIC and select the best model. Compare your results with paper by Kirkby et. al (https://arxiv.org/abs/2108.12649) where the period from Jan 1, 1962 to April 8, 2021 (14,801 daily observations).\n",
    "\n",
    "Dataset: Market Yield on U.S. Treasury Securities at 10-Year Constant Maturity, Quoted on an Investment Basis (DGS10),\n",
    "https://fred.stlouisfed.org/series/DGS10  "
   ]
  },
  {
   "cell_type": "code",
   "execution_count": 18,
   "id": "ed2df265",
   "metadata": {
    "id": "ed2df265",
    "scrolled": false
   },
   "outputs": [],
   "source": [
    "# Read data and preprocessing it\n",
    "df_IR = pd.read_csv('DGS10.csv',sep='\\t')\n",
    "df_IR\n",
    "df_IR = df_IR[df_IR['DGS10'] != '.']\n",
    "\n",
    "# Make valid numerical sample\n",
    "sample = df_IR['DGS10'].values\n",
    "sample = [float(sample[i]) for i in range(len(sample))]\n",
    "sample = np.array(sample)"
   ]
  },
  {
   "cell_type": "markdown",
   "id": "7ZxNHctcvYBj",
   "metadata": {
    "id": "7ZxNHctcvYBj"
   },
   "source": [
    "Task. Download the DGS10 dataset directlly from https://fred.stlouisfed.org/series/DGS10 .\n",
    "\n",
    "Hint.\n",
    "\n",
    "Use  \n",
    "`from pymle.data.loader import load_10yr_CMrate`"
   ]
  },
  {
   "cell_type": "code",
   "execution_count": 19,
   "id": "-YwfX0BMvI1T",
   "metadata": {
    "id": "-YwfX0BMvI1T"
   },
   "outputs": [],
   "source": [
    "from pymle.data.loader import load_10yr_CMrate\n"
   ]
  },
  {
   "cell_type": "code",
   "execution_count": 20,
   "id": "bbc5f139",
   "metadata": {
    "colab": {
     "base_uri": "https://localhost:8080/",
     "height": 487
    },
    "id": "bbc5f139",
    "outputId": "0053efd4-0573-432a-90ea-545c16795075",
    "scrolled": true
   },
   "outputs": [
    {
     "data": {
      "image/png": "[encoded data removed]",
      "text/plain": [
       "<Figure size 720x360 with 1 Axes>"
      ]
     },
     "metadata": {
      "needs_background": "light"
     },
     "output_type": "display_data"
    }
   ],
   "source": [
    "# Plot\n",
    "figure, ax = plt.subplots(figsize=(10,5))\n",
    "ax.plot(np.linspace(0, len(sample), len(sample)),sample, label='Interest rate')\n",
    "plt.title('Market Yield on U.S. Treasury Securities at 10-Year Constant Maturity')\n",
    "plt.xlim(0, len(sample))\n",
    "plt.ylabel('Persent')\n",
    "plt.xlabel('Observations')\n",
    "plt.legend()\n",
    "plt.show()"
   ]
  },
  {
   "cell_type": "markdown",
   "id": "xoyfkOdr1D9n",
   "metadata": {
    "id": "xoyfkOdr1D9n"
   },
   "source": [
    "Task. Change the X marks to dates."
   ]
  },
  {
   "cell_type": "code",
   "execution_count": 21,
   "id": "9Lxte3RX1mKX",
   "metadata": {
    "id": "9Lxte3RX1mKX"
   },
   "outputs": [],
   "source": [
    "# your code"
   ]
  },
  {
   "cell_type": "code",
   "execution_count": 22,
   "id": "3deddcc4",
   "metadata": {
    "id": "3deddcc4"
   },
   "outputs": [],
   "source": [
    "# Import models for fitting:\n",
    "from pymle.models import BrownianMotion, CEV, CIR,\\\n",
    "                         CKLS, GeometricBM, IGBM, \\\n",
    "                         OrnsteinUhlenbeck"
   ]
  },
  {
   "cell_type": "code",
   "execution_count": 23,
   "id": "7b74a950",
   "metadata": {
    "id": "7b74a950",
    "scrolled": true
   },
   "outputs": [
    {
     "name": "stdout",
     "output_type": "stream",
     "text": [
      "Initial Params: [0.01, 0.2]\n",
      "Initial Likelihood: -102425.17889230454\n"
     ]
    },
    {
     "name": "stderr",
     "output_type": "stream",
     "text": [
      "C:\\Users\\User\\Anaconda3\\lib\\site-packages\\scipy\\optimize\\_hessian_update_strategy.py:186: UserWarning: delta_grad == 0.0. Check if the approximated function is linear. If the function is linear better results can be obtained by defining the Hessian as zero instead of using quasi-Newton approximations.\n",
      "  'approximations.', UserWarning)\n"
     ]
    },
    {
     "name": "stdout",
     "output_type": "stream",
     "text": [
      "`xtol` termination condition is satisfied.\n",
      "Number of iterations: 58, function evaluations: 183, CG iterations: 90, optimality: 1.96e-02, constraint violation: 0.00e+00, execution time: 0.88 s.\n",
      "Final Params: [0.02397765 1.03463272]\n",
      "Final Likelihood: 20592.82008310863\n",
      "Initial Params: [0.01, 0.01, 0.01, 0.2]\n",
      "Initial Likelihood: -912651.6289621622\n",
      "`xtol` termination condition is satisfied.\n",
      "Number of iterations: 63, function evaluations: 325, CG iterations: 231, optimality: 1.57e+01, constraint violation: 0.00e+00, execution time:  3.4 s.\n",
      "Final Params: [0.04196802 0.16557494 0.5840565  0.32146107]\n",
      "Final Likelihood: 21395.812901290785\n",
      "Initial Params: [0.01, 0.01, 0.2]\n",
      "Initial Likelihood: 3862.350207837274\n",
      "`xtol` termination condition is satisfied.\n",
      "Number of iterations: 29, function evaluations: 176, CG iterations: 31, optimality: 1.09e+01, constraint violation: 0.00e+00, execution time: 0.55 s.\n",
      "Final Params: [0.01000662 0.01001496 0.4428098 ]\n",
      "Final Likelihood: 21119.01808214146\n",
      "Initial Params: [0.01, 0.2]\n",
      "Initial Likelihood: 16944.644148342235\n",
      "`xtol` termination condition is satisfied.\n",
      "Number of iterations: 30, function evaluations: 114, CG iterations: 35, optimality: 3.36e+00, constraint violation: 0.00e+00, execution time: 0.36 s.\n",
      "Final Params: [0.01417213 0.24287178]\n",
      "Final Likelihood: 17525.21079494686\n",
      "Initial Params: [0.01, 0.01, 0.2]\n",
      "Initial Likelihood: 16943.20307658092\n",
      "`xtol` termination condition is satisfied.\n",
      "Number of iterations: 52, function evaluations: 188, CG iterations: 111, optimality: 1.26e-03, constraint violation: 0.00e+00, execution time: 0.79 s.\n",
      "Final Params: [0.20383907 4.83100822 0.2425389 ]\n",
      "Final Likelihood: 17543.940645786344\n",
      "Initial Params: [0.01, 0.01, 0.2]\n",
      "Initial Likelihood: -102428.73733720431\n",
      "`xtol` termination condition is satisfied.\n",
      "Number of iterations: 98, function evaluations: 420, CG iterations: 202, optimality: 2.11e-02, constraint violation: 0.00e+00, execution time:  1.6 s.\n",
      "Final Params: [0.01484532 0.43007254 1.03461888]\n",
      "Final Likelihood: 20593.03619339152\n",
      "Initial Params: [0.01, 0.01, 0.01, 0.2]\n",
      "Initial Likelihood: -912591.0674829951\n",
      "`xtol` termination condition is satisfied.\n",
      "Number of iterations: 92, function evaluations: 555, CG iterations: 287, optimality: 5.15e+01, constraint violation: 0.00e+00, execution time:  5.9 s.\n",
      "Final Params: [0.05953877 0.01407818 0.57448694 0.33230791]\n",
      "Final Likelihood: 21395.92743933436\n",
      "Initial Params: [0.01, 0.2]\n",
      "Initial Likelihood: -102425.17889230454\n",
      "`xtol` termination condition is satisfied.\n",
      "Number of iterations: 58, function evaluations: 183, CG iterations: 90, optimality: 1.96e-02, constraint violation: 0.00e+00, execution time: 0.78 s.\n",
      "Final Params: [0.02397765 1.03463272]\n",
      "Final Likelihood: 20592.82008310863\n",
      "Initial Params: [0.01, 0.01, 0.01, 0.2]\n",
      "Initial Likelihood: -912651.6289621622\n",
      "`xtol` termination condition is satisfied.\n",
      "Number of iterations: 63, function evaluations: 325, CG iterations: 231, optimality: 1.57e+01, constraint violation: 0.00e+00, execution time:  3.5 s.\n",
      "Final Params: [0.04196802 0.16557494 0.5840565  0.32146107]\n",
      "Final Likelihood: 21395.812901290785\n",
      "Initial Params: [0.01, 0.01, 0.2]\n",
      "Initial Likelihood: 3862.350207837274\n",
      "`xtol` termination condition is satisfied.\n",
      "Number of iterations: 29, function evaluations: 176, CG iterations: 31, optimality: 1.09e+01, constraint violation: 0.00e+00, execution time: 0.59 s.\n",
      "Final Params: [0.01000662 0.01001496 0.4428098 ]\n",
      "Final Likelihood: 21119.01808214146\n",
      "Initial Params: [0.01, 0.2]\n",
      "Initial Likelihood: 16944.644148342235\n",
      "`xtol` termination condition is satisfied.\n",
      "Number of iterations: 30, function evaluations: 114, CG iterations: 35, optimality: 3.36e+00, constraint violation: 0.00e+00, execution time:  0.4 s.\n",
      "Final Params: [0.01417213 0.24287178]\n",
      "Final Likelihood: 17525.21079494686\n",
      "Initial Params: [0.01, 0.01, 0.2]\n",
      "Initial Likelihood: 16943.20307658092\n",
      "`xtol` termination condition is satisfied.\n",
      "Number of iterations: 52, function evaluations: 188, CG iterations: 111, optimality: 1.26e-03, constraint violation: 0.00e+00, execution time: 0.71 s.\n",
      "Final Params: [0.20383907 4.83100822 0.2425389 ]\n",
      "Final Likelihood: 17543.940645786344\n",
      "Initial Params: [0.01, 0.01, 0.2]\n",
      "Initial Likelihood: -102428.73733720431\n",
      "`xtol` termination condition is satisfied.\n",
      "Number of iterations: 98, function evaluations: 420, CG iterations: 202, optimality: 2.11e-02, constraint violation: 0.00e+00, execution time:  1.6 s.\n",
      "Final Params: [0.01484532 0.43007254 1.03461888]\n",
      "Final Likelihood: 20593.03619339152\n",
      "Initial Params: [0.01, 0.01, 0.01, 0.2]\n",
      "Initial Likelihood: -912591.0674829951\n",
      "`xtol` termination condition is satisfied.\n",
      "Number of iterations: 92, function evaluations: 555, CG iterations: 287, optimality: 5.15e+01, constraint violation: 0.00e+00, execution time:  7.6 s.\n",
      "Final Params: [0.05953877 0.01407818 0.57448694 0.33230791]\n",
      "Final Likelihood: 21395.92743933436\n"
     ]
    }
   ],
   "source": [
    "# a) fit using Kessler method:\n",
    "\n",
    "# Choose several models:\n",
    "model_name = [\"BrownianMotion\", \"CEV\", \"CIR\", \"GeometricBM\", \\\n",
    "         \"IGBM\", \"OrnsteinUhlenbeck\", \"CKLS\"]\n",
    "\n",
    "model = [BrownianMotion(), CEV(), CIR(), GeometricBM(), \\\n",
    "         IGBM(), OrnsteinUhlenbeck(), CKLS()]\n",
    "\n",
    "# Create parametrization templates:\n",
    "param_bounds = [[(0.01, 10), (0.01, 2)],                         # Brownian Motion\n",
    "                [(0.01, 10), (0.01, 10), (0.01, 10), (0.01, 2)], # CEV\n",
    "                [(0.01, 10), (0.01, 10),(0.01, 2)],              # CIR\n",
    "                [(0.01, 10), (0.01, 2)],                         # GBM\n",
    "                [(0.01, 10), (0.01, 10),(0.01, 2)],              # IGBM\n",
    "                [(0.01, 10), (0.01, 10),(0.01, 2)],              # OU\n",
    "                [(0.01, 10), (0.01, 10), (0.01, 10), (0.01, 2)]  # CKLS\n",
    "               ]\n",
    "\n",
    "param_guess  = [[0.01, 0.2],                                     # Brownian Motion\n",
    "                [0.01, 0.01, 0.01, 0.2],                         # CEV\n",
    "                [0.01, 0.01, 0.2],                               # CIR\n",
    "                [0.01, 0.2],                                     # GBM\n",
    "                [0.01, 0.01, 0.2],                               # IGBM\n",
    "                [0.01, 0.01, 0.2],                               # OU\n",
    "                [0.01, 0.01, 0.01, 0.2]                          # CKLS\n",
    "               ]\n",
    "\n",
    "# Set parameters for estimators:\n",
    "dt = 1. / 252\n",
    "\n",
    "# Estimate max likelyhood, using KesslerDensity\n",
    "kessler_est   = [AnalyticalMLE(sample, param_bounds[i], dt, density=KesslerDensity(model[i])).estimate_params(param_guess[i]).aic \\\n",
    "               for i in range (len(param_bounds))];\n",
    "kessler_params   = [AnalyticalMLE(sample, param_bounds[i], dt, density=KesslerDensity(model[i])).estimate_params(param_guess[i]).params \\\n",
    "               for i in range (len(param_bounds))];"
   ]
  },
  {
   "cell_type": "code",
   "execution_count": 24,
   "id": "547fb48c",
   "metadata": {
    "colab": {
     "base_uri": "https://localhost:8080/"
    },
    "id": "547fb48c",
    "outputId": "16b43e28-f124-4066-d8c3-fc8e2b6c774b"
   },
   "outputs": [
    {
     "name": "stdout",
     "output_type": "stream",
     "text": [
      "AIC values for Kessler estimation:\n",
      "       -41181.640 - BrownianMotion model with params [0.02397765 1.03463272],\n",
      "       -42783.626 - CEV model with params [0.04196802 0.16557494 0.5840565  0.32146107],\n",
      "       -42232.036 - CIR model with params [0.01000662 0.01001496 0.4428098 ],\n",
      "       -35046.422 - GeometricBM model with params [0.01417213 0.24287178],\n",
      "       -35081.881 - IGBM model with params [0.20383907 4.83100822 0.2425389 ],\n",
      "       -41180.072 - OrnsteinUhlenbeck model with params [0.01484532 0.43007254 1.03461888],\n",
      "       -42783.855 - CKLS model with params [0.05953877 0.01407818 0.57448694 0.33230791],\n",
      "       \n",
      "The best model is CKLS     with param [0.05953877 0.01407818 0.57448694 0.33230791]\n"
     ]
    }
   ],
   "source": [
    "best_ind = argmin(kessler_est)\n",
    "print(\"AIC values for Kessler estimation:\\n \\\n",
    "      {:.3f} - {} model with params {},\\n \\\n",
    "      {:.3f} - {} model with params {},\\n \\\n",
    "      {:.3f} - {} model with params {},\\n \\\n",
    "      {:.3f} - {} model with params {},\\n \\\n",
    "      {:.3f} - {} model with params {},\\n \\\n",
    "      {:.3f} - {} model with params {},\\n \\\n",
    "      {:.3f} - {} model with params {},\\n \\\n",
    "      \".format(\n",
    "     kessler_est[0], model_name[0], kessler_params[0],\\\n",
    "     kessler_est[1], model_name[1], kessler_params[1],\\\n",
    "     kessler_est[2], model_name[2], kessler_params[2],\\\n",
    "     kessler_est[3], model_name[3], kessler_params[3],\\\n",
    "     kessler_est[4], model_name[4], kessler_params[4],\\\n",
    "     kessler_est[5], model_name[5], kessler_params[5],\\\n",
    "     kessler_est[6], model_name[6], kessler_params[6]))\n",
    "\n",
    "print(\"The best model is {} \\\n",
    "    with param {}\".format(model_name[best_ind], kessler_params[best_ind]))"
   ]
  },
  {
   "cell_type": "code",
   "execution_count": 25,
   "id": "003bf51e",
   "metadata": {
    "id": "003bf51e",
    "scrolled": true
   },
   "outputs": [
    {
     "name": "stdout",
     "output_type": "stream",
     "text": [
      "Initial Params: [0.01, 0.2]\n",
      "Initial Likelihood: -102425.17889163185\n",
      "`gtol` termination condition is satisfied.\n",
      "Number of iterations: 33, function evaluations: 84, CG iterations: 52, optimality: 6.34e-07, constraint violation: 0.00e+00, execution time: 0.52 s.\n",
      "Final Params: [0.01014126 1.03463343]\n",
      "Final Likelihood: 20592.830588563622\n",
      "Initial Params: [0.01, 0.01, 0.01, 0.2]\n",
      "Initial Likelihood: -912656.8014585197\n",
      "The maximum number of function evaluations is exceeded.\n",
      "Number of iterations: 250, function evaluations: 1280, CG iterations: 946, optimality: 2.29e-02, constraint violation: 0.00e+00, execution time:  6.9 s.\n",
      "Final Params: [0.01505053 0.1421784  0.58305669 0.32235434]\n",
      "Final Likelihood: 21396.98431585607\n",
      "Initial Params: [0.01, 0.01, 0.2]\n",
      "Initial Likelihood: 3853.6789137898636\n",
      "`xtol` termination condition is satisfied.\n",
      "Number of iterations: 64, function evaluations: 288, CG iterations: 146, optimality: 1.32e-01, constraint violation: 0.00e+00, execution time:  1.1 s.\n",
      "Final Params: [0.0701061 5.8165396 0.4430157]\n",
      "Final Likelihood: 21120.53473171404\n",
      "Initial Params: [0.01, 0.2]\n",
      "Initial Likelihood: 16943.49264002696\n",
      "`xtol` termination condition is satisfied.\n",
      "Number of iterations: 26, function evaluations: 72, CG iterations: 38, optimality: 1.05e-04, constraint violation: 0.00e+00, execution time:  0.3 s.\n",
      "Final Params: [0.03242916 0.24310946]\n",
      "Final Likelihood: 17530.13296127716\n",
      "Initial Params: [0.01, 0.01, 0.2]\n",
      "Initial Likelihood: 16942.047745453332\n",
      "`xtol` termination condition is satisfied.\n",
      "Number of iterations: 69, function evaluations: 264, CG iterations: 148, optimality: 2.44e-01, constraint violation: 0.00e+00, execution time:  1.1 s.\n",
      "Final Params: [0.14579539 5.05885963 0.24303407]\n",
      "Final Likelihood: 17540.58280400206\n",
      "Initial Params: [0.01, 0.01, 0.2]\n",
      "Initial Likelihood: -102433.1503912004\n",
      "`xtol` termination condition is satisfied.\n",
      "Number of iterations: 48, function evaluations: 192, CG iterations: 101, optimality: 8.96e-03, constraint violation: 0.00e+00, execution time: 0.83 s.\n",
      "Final Params: [0.01383778 0.36881585 1.03464835]\n",
      "Final Likelihood: 20593.03381437382\n",
      "Initial Params: [0.01, 0.01, 0.01, 0.2]\n",
      "Initial Likelihood: -912586.6454816272\n",
      "`xtol` termination condition is satisfied.\n",
      "Number of iterations: 75, function evaluations: 395, CG iterations: 198, optimality: 4.72e-05, constraint violation: 0.00e+00, execution time:  1.9 s.\n",
      "Final Params: [0.03347141 0.01000076 0.58289081 0.32250213]\n",
      "Final Likelihood: 21396.888736732686\n",
      "Initial Params: [0.01, 0.2]\n",
      "Initial Likelihood: -102425.17889163185\n",
      "`gtol` termination condition is satisfied.\n",
      "Number of iterations: 33, function evaluations: 84, CG iterations: 52, optimality: 6.34e-07, constraint violation: 0.00e+00, execution time: 0.42 s.\n",
      "Final Params: [0.01014126 1.03463343]\n",
      "Final Likelihood: 20592.830588563622\n",
      "Initial Params: [0.01, 0.01, 0.01, 0.2]\n",
      "Initial Likelihood: -912656.8014585197\n",
      "The maximum number of function evaluations is exceeded.\n",
      "Number of iterations: 250, function evaluations: 1280, CG iterations: 946, optimality: 2.29e-02, constraint violation: 0.00e+00, execution time:  6.8 s.\n",
      "Final Params: [0.01505053 0.1421784  0.58305669 0.32235434]\n",
      "Final Likelihood: 21396.98431585607\n",
      "Initial Params: [0.01, 0.01, 0.2]\n",
      "Initial Likelihood: 3853.6789137898636\n",
      "`xtol` termination condition is satisfied.\n",
      "Number of iterations: 64, function evaluations: 288, CG iterations: 146, optimality: 1.32e-01, constraint violation: 0.00e+00, execution time:  1.1 s.\n",
      "Final Params: [0.0701061 5.8165396 0.4430157]\n",
      "Final Likelihood: 21120.53473171404\n",
      "Initial Params: [0.01, 0.2]\n",
      "Initial Likelihood: 16943.49264002696\n",
      "`xtol` termination condition is satisfied.\n",
      "Number of iterations: 26, function evaluations: 72, CG iterations: 38, optimality: 1.05e-04, constraint violation: 0.00e+00, execution time:  0.3 s.\n",
      "Final Params: [0.03242916 0.24310946]\n",
      "Final Likelihood: 17530.13296127716\n",
      "Initial Params: [0.01, 0.01, 0.2]\n",
      "Initial Likelihood: 16942.047745453332\n",
      "`xtol` termination condition is satisfied.\n",
      "Number of iterations: 69, function evaluations: 264, CG iterations: 148, optimality: 2.44e-01, constraint violation: 0.00e+00, execution time:  1.0 s.\n",
      "Final Params: [0.14579539 5.05885963 0.24303407]\n",
      "Final Likelihood: 17540.58280400206\n",
      "Initial Params: [0.01, 0.01, 0.2]\n",
      "Initial Likelihood: -102433.1503912004\n",
      "`xtol` termination condition is satisfied.\n",
      "Number of iterations: 48, function evaluations: 192, CG iterations: 101, optimality: 8.96e-03, constraint violation: 0.00e+00, execution time:  0.8 s.\n",
      "Final Params: [0.01383778 0.36881585 1.03464835]\n",
      "Final Likelihood: 20593.03381437382\n",
      "Initial Params: [0.01, 0.01, 0.01, 0.2]\n",
      "Initial Likelihood: -912586.6454816272\n",
      "`xtol` termination condition is satisfied.\n",
      "Number of iterations: 75, function evaluations: 395, CG iterations: 198, optimality: 4.72e-05, constraint violation: 0.00e+00, execution time:  1.9 s.\n",
      "Final Params: [0.03347141 0.01000076 0.58289081 0.32250213]\n",
      "Final Likelihood: 21396.888736732686\n"
     ]
    }
   ],
   "source": [
    "# b) fit using Shoji-Ozaki method:\n",
    "\n",
    "# Choose several models:\n",
    "model_name = [\"BrownianMotion\", \"CEV\", \"CIR\", \"GeometricBM\", \\\n",
    "         \"IGBM\", \"OrnsteinUhlenbeck\", \"CKLS\"]\n",
    "\n",
    "model = [BrownianMotion(), CEV(), CIR(), GeometricBM(), \\\n",
    "         IGBM(), OrnsteinUhlenbeck(), CKLS()]\n",
    "\n",
    "# Create parametrization templates:\n",
    "param_bounds = [[(0.01, 10), (0.01, 2)],                         # Brownian Motion\n",
    "                [(0.01, 10), (0.01, 10), (0.01, 10), (0.01, 2)], # CEV\n",
    "                [(0.01, 10), (0.01, 10),(0.01, 2)],              # CIR\n",
    "                [(0.01, 10), (0.01, 2)],                         # GBM\n",
    "                [(0.01, 10), (0.01, 10),(0.01, 2)],              # IGBM\n",
    "                [(0.01, 10), (0.01, 10),(0.01, 2)],              # OU\n",
    "                [(0.01, 10), (0.01, 10), (0.01, 10), (0.01, 2)]  # CKLS\n",
    "               ]\n",
    "\n",
    "param_guess  = [[0.01, 0.2],                                     # Brownian Motion\n",
    "                [0.01, 0.01, 0.01, 0.2],                         # CEV\n",
    "                [0.01, 0.01, 0.2],                               # CIR\n",
    "                [0.01, 0.2],                                     # GBM\n",
    "                [0.01, 0.01, 0.2],                               # IGBM\n",
    "                [0.01, 0.01, 0.2],                               # OU\n",
    "                [0.01, 0.01, 0.01, 0.2]                          # CKLS\n",
    "               ]\n",
    "\n",
    "# Set parameters for estimators:\n",
    "dt = 1. / 252\n",
    "K = 1\n",
    "\n",
    "# Estimate max likelyhood, using Shoji-Ozaki\n",
    "shoji_ozaki_est      = [AnalyticalMLE(sample, param_bounds[i], dt, density=ShojiOzakiDensity(model[i])).estimate_params(param_guess[i]).aic \\\n",
    "               for i in range (len(param_bounds))];\n",
    "shoji_ozaki_params   = [AnalyticalMLE(sample, param_bounds[i], dt, density=ShojiOzakiDensity(model[i])).estimate_params(param_guess[i]).params \\\n",
    "               for i in range (len(param_bounds))];"
   ]
  },
  {
   "cell_type": "code",
   "execution_count": 26,
   "id": "cbd7e726",
   "metadata": {
    "colab": {
     "base_uri": "https://localhost:8080/"
    },
    "id": "cbd7e726",
    "outputId": "51212628-223c-490d-ecff-b843277917d0",
    "scrolled": true
   },
   "outputs": [
    {
     "name": "stdout",
     "output_type": "stream",
     "text": [
      "AIC values for Shoji-Ozaki estimation:\n",
      "       -41181.661 - BrownianMotion model with params [0.01014126 1.03463343],\n",
      "       -42785.969 - CEV model with params [0.01505053 0.1421784  0.58305669 0.32235434],\n",
      "       -42235.069 - CIR model with params [0.0701061 5.8165396 0.4430157],\n",
      "       -35056.266 - GeometricBM model with params [0.03242916 0.24310946],\n",
      "       -35075.166 - IGBM model with params [0.14579539 5.05885963 0.24303407],\n",
      "       -41180.068 - OrnsteinUhlenbeck model with params [0.01383778 0.36881585 1.03464835],\n",
      "       -42785.777 - CKLS model with params [0.03347141 0.01000076 0.58289081 0.32250213],\n",
      "       \n",
      "The best model is CEV     with param [0.01505053 0.1421784  0.58305669 0.32235434]\n"
     ]
    }
   ],
   "source": [
    "best_ind = argmin(shoji_ozaki_est)\n",
    "print(\"AIC values for Shoji-Ozaki estimation:\\n \\\n",
    "      {:.3f} - {} model with params {},\\n \\\n",
    "      {:.3f} - {} model with params {},\\n \\\n",
    "      {:.3f} - {} model with params {},\\n \\\n",
    "      {:.3f} - {} model with params {},\\n \\\n",
    "      {:.3f} - {} model with params {},\\n \\\n",
    "      {:.3f} - {} model with params {},\\n \\\n",
    "      {:.3f} - {} model with params {},\\n \\\n",
    "      \".format(\n",
    "     shoji_ozaki_est[0], model_name[0], shoji_ozaki_params[0],\\\n",
    "     shoji_ozaki_est[1], model_name[1], shoji_ozaki_params[1],\\\n",
    "     shoji_ozaki_est[2], model_name[2], shoji_ozaki_params[2],\\\n",
    "     shoji_ozaki_est[3], model_name[3], shoji_ozaki_params[3],\\\n",
    "     shoji_ozaki_est[4], model_name[4], shoji_ozaki_params[4],\\\n",
    "     shoji_ozaki_est[5], model_name[5], shoji_ozaki_params[5],\\\n",
    "     shoji_ozaki_est[6], model_name[6], shoji_ozaki_params[6]))\n",
    "\n",
    "print(\"The best model is {} \\\n",
    "    with param {}\".format(model_name[best_ind], shoji_ozaki_params[best_ind]))"
   ]
  },
  {
   "cell_type": "code",
   "execution_count": 27,
   "id": "4fd5f052",
   "metadata": {
    "id": "4fd5f052",
    "scrolled": true
   },
   "outputs": [
    {
     "name": "stdout",
     "output_type": "stream",
     "text": [
      "Initial Params: [0.01, 0.2]\n",
      "Initial Likelihood: -102425.17889163186\n",
      "`xtol` termination condition is satisfied.\n",
      "Number of iterations: 44, function evaluations: 114, CG iterations: 63, optimality: 1.57e-04, constraint violation: 0.00e+00, execution time: 0.46 s.\n",
      "Final Params: [0.01014141 1.03463344]\n",
      "Final Likelihood: 20592.830588508004\n",
      "Initial Params: [0.01, 0.01, 0.01, 0.2]\n",
      "Initial Likelihood: -912651.2216634634\n",
      "`xtol` termination condition is satisfied.\n",
      "Number of iterations: 72, function evaluations: 315, CG iterations: 214, optimality: 3.52e-05, constraint violation: 0.00e+00, execution time:  1.3 s.\n",
      "Final Params: [0.06825548 5.96908424 0.58271133 0.32263943]\n",
      "Final Likelihood: 21398.542044303405\n",
      "Initial Params: [0.01, 0.01, 0.2]\n",
      "Initial Likelihood: 3854.816793633045\n",
      "`xtol` termination condition is satisfied.\n",
      "Number of iterations: 78, function evaluations: 308, CG iterations: 168, optimality: 1.58e-06, constraint violation: 0.00e+00, execution time: 0.91 s.\n",
      "Final Params: [0.06933823 5.83889022 0.44295446]\n",
      "Final Likelihood: 21120.534888479935\n",
      "Initial Params: [0.01, 0.2]\n",
      "Initial Likelihood: 16943.36487500633\n",
      "`xtol` termination condition is satisfied.\n",
      "Number of iterations: 36, function evaluations: 69, CG iterations: 41, optimality: 1.12e-05, constraint violation: 0.00e+00, execution time: 0.28 s.\n",
      "Final Params: [0.03231804 0.24312508]\n",
      "Final Likelihood: 17530.132968006572\n",
      "Initial Params: [0.01, 0.01, 0.2]\n",
      "Initial Likelihood: 16942.175549813306\n",
      "`xtol` termination condition is satisfied.\n",
      "Number of iterations: 67, function evaluations: 228, CG iterations: 128, optimality: 4.43e-05, constraint violation: 0.00e+00, execution time:  0.7 s.\n",
      "Final Params: [0.14404091 5.10978351 0.24296323]\n",
      "Final Likelihood: 17540.583863917556\n",
      "Initial Params: [0.01, 0.01, 0.2]\n",
      "Initial Likelihood: -102428.7397584508\n",
      "`xtol` termination condition is satisfied.\n",
      "Number of iterations: 62, function evaluations: 256, CG iterations: 113, optimality: 7.81e-05, constraint violation: 0.00e+00, execution time: 0.72 s.\n",
      "Final Params: [0.06183183 5.91281302 1.0345691 ]\n",
      "Final Likelihood: 20593.806742778514\n",
      "Initial Params: [0.01, 0.01, 0.01, 0.2]\n",
      "Initial Likelihood: -912592.0599960034\n",
      "`xtol` termination condition is satisfied.\n",
      "Number of iterations: 70, function evaluations: 370, CG iterations: 179, optimality: 1.07e-04, constraint violation: 0.00e+00, execution time:  1.4 s.\n",
      "Final Params: [0.03348588 0.01000076 0.58290232 0.32250219]\n",
      "Final Likelihood: 21396.88874529179\n",
      "Initial Params: [0.01, 0.2]\n",
      "Initial Likelihood: -102425.17889163186\n",
      "`xtol` termination condition is satisfied.\n",
      "Number of iterations: 44, function evaluations: 114, CG iterations: 63, optimality: 1.57e-04, constraint violation: 0.00e+00, execution time: 0.52 s.\n",
      "Final Params: [0.01014141 1.03463344]\n",
      "Final Likelihood: 20592.830588508004\n",
      "Initial Params: [0.01, 0.01, 0.01, 0.2]\n",
      "Initial Likelihood: -912651.2216634634\n",
      "`xtol` termination condition is satisfied.\n",
      "Number of iterations: 72, function evaluations: 315, CG iterations: 214, optimality: 3.52e-05, constraint violation: 0.00e+00, execution time:  1.3 s.\n",
      "Final Params: [0.06825548 5.96908424 0.58271133 0.32263943]\n",
      "Final Likelihood: 21398.542044303405\n",
      "Initial Params: [0.01, 0.01, 0.2]\n",
      "Initial Likelihood: 3854.816793633045\n",
      "`xtol` termination condition is satisfied.\n",
      "Number of iterations: 78, function evaluations: 308, CG iterations: 168, optimality: 1.58e-06, constraint violation: 0.00e+00, execution time: 0.91 s.\n",
      "Final Params: [0.06933823 5.83889022 0.44295446]\n",
      "Final Likelihood: 21120.534888479935\n",
      "Initial Params: [0.01, 0.2]\n",
      "Initial Likelihood: 16943.36487500633\n",
      "`xtol` termination condition is satisfied.\n",
      "Number of iterations: 36, function evaluations: 69, CG iterations: 41, optimality: 1.12e-05, constraint violation: 0.00e+00, execution time: 0.28 s.\n",
      "Final Params: [0.03231804 0.24312508]\n",
      "Final Likelihood: 17530.132968006572\n",
      "Initial Params: [0.01, 0.01, 0.2]\n",
      "Initial Likelihood: 16942.175549813306\n",
      "`xtol` termination condition is satisfied.\n",
      "Number of iterations: 67, function evaluations: 228, CG iterations: 128, optimality: 4.43e-05, constraint violation: 0.00e+00, execution time: 0.72 s.\n",
      "Final Params: [0.14404091 5.10978351 0.24296323]\n",
      "Final Likelihood: 17540.583863917556\n",
      "Initial Params: [0.01, 0.01, 0.2]\n",
      "Initial Likelihood: -102428.7397584508\n",
      "`xtol` termination condition is satisfied.\n",
      "Number of iterations: 62, function evaluations: 256, CG iterations: 113, optimality: 7.81e-05, constraint violation: 0.00e+00, execution time: 0.72 s.\n",
      "Final Params: [0.06183183 5.91281302 1.0345691 ]\n",
      "Final Likelihood: 20593.806742778514\n",
      "Initial Params: [0.01, 0.01, 0.01, 0.2]\n",
      "Initial Likelihood: -912592.0599960034\n",
      "`xtol` termination condition is satisfied.\n",
      "Number of iterations: 70, function evaluations: 370, CG iterations: 179, optimality: 1.07e-04, constraint violation: 0.00e+00, execution time:  1.4 s.\n",
      "Final Params: [0.03348588 0.01000076 0.58290232 0.32250219]\n",
      "Final Likelihood: 21396.88874529179\n"
     ]
    }
   ],
   "source": [
    "# c) fit using Euler method:\n",
    "\n",
    "# Choose several models:\n",
    "model_name = [\"BrownianMotion\", \"CEV\", \"CIR\", \"GeometricBM\", \\\n",
    "         \"IGBM\", \"OrnsteinUhlenbeck\", \"CKLS\"]\n",
    "\n",
    "model = [BrownianMotion(), CEV(), CIR(), GeometricBM(), \\\n",
    "         IGBM(), OrnsteinUhlenbeck(), CKLS()]\n",
    "\n",
    "# Create parametrization templates:\n",
    "param_bounds = [[(0.01, 10), (0.01, 2)],                         # Brownian Motion\n",
    "                [(0.01, 10), (0.01, 10), (0.01, 10), (0.01, 2)], # CEV\n",
    "                [(0.01, 10), (0.01, 10),(0.01, 2)],              # CIR\n",
    "                [(0.01, 10), (0.01, 2)],                         # GBM\n",
    "                [(0.01, 10), (0.01, 10),(0.01, 2)],              # IGBM\n",
    "                [(0.01, 10), (0.01, 10),(0.01, 2)],              # OU\n",
    "                [(0.01, 10), (0.01, 10), (0.01, 10), (0.01, 2)]  # CKLS\n",
    "               ]\n",
    "\n",
    "param_guess  = [[0.01, 0.2],                                     # Brownian Motion\n",
    "                [0.01, 0.01, 0.01, 0.2],                         # CEV\n",
    "                [0.01, 0.01, 0.2],                               # CIR\n",
    "                [0.01, 0.2],                                     # GBM\n",
    "                [0.01, 0.01, 0.2],                               # IGBM\n",
    "                [0.01, 0.01, 0.2],                               # OU\n",
    "                [0.01, 0.01, 0.01, 0.2]                          # CKLS\n",
    "               ]\n",
    "\n",
    "# Set parameters for estimators:\n",
    "dt = 1. / 252\n",
    "K = 1\n",
    "\n",
    "# Estimate max likelyhood, using Shoji-Ozaki\n",
    "euler_est   = [AnalyticalMLE(sample, param_bounds[i], dt, density=EulerDensity(model[i])).estimate_params(param_guess[i]).aic \\\n",
    "               for i in range (len(param_bounds))];\n",
    "eu_params   = [AnalyticalMLE(sample, param_bounds[i], dt, density=EulerDensity(model[i])).estimate_params(param_guess[i]).params \\\n",
    "               for i in range (len(param_bounds))];"
   ]
  },
  {
   "cell_type": "code",
   "execution_count": 28,
   "id": "edb1517d",
   "metadata": {
    "colab": {
     "base_uri": "https://localhost:8080/"
    },
    "id": "edb1517d",
    "outputId": "fd9cc0f8-4e08-49ce-f9f5-37893de7acc2"
   },
   "outputs": [
    {
     "name": "stdout",
     "output_type": "stream",
     "text": [
      "AIC values for Euler estimation:\n",
      "       -41181.661 - BrownianMotion model with params [0.01014141 1.03463344],\n",
      "       -42789.084 - CEV model with params [0.06825548 5.96908424 0.58271133 0.32263943],\n",
      "       -42235.070 - CIR model with params [0.06933823 5.83889022 0.44295446],\n",
      "       -35056.266 - GeometricBM model with params [0.03231804 0.24312508],\n",
      "       -35075.168 - IGBM model with params [0.14404091 5.10978351 0.24296323],\n",
      "       -41181.613 - OrnsteinUhlenbeck model with params [0.06183183 5.91281302 1.0345691 ],\n",
      "       -42785.777 - CKLS model with params [0.03348588 0.01000076 0.58290232 0.32250219],\n",
      "       \n",
      "The best model is CEV     with param [0.06825548 5.96908424 0.58271133 0.32263943]\n"
     ]
    }
   ],
   "source": [
    "best_ind = argmin(euler_est)\n",
    "print(\"AIC values for Euler estimation:\\n \\\n",
    "      {:.3f} - {} model with params {},\\n \\\n",
    "      {:.3f} - {} model with params {},\\n \\\n",
    "      {:.3f} - {} model with params {},\\n \\\n",
    "      {:.3f} - {} model with params {},\\n \\\n",
    "      {:.3f} - {} model with params {},\\n \\\n",
    "      {:.3f} - {} model with params {},\\n \\\n",
    "      {:.3f} - {} model with params {},\\n \\\n",
    "      \".format(\n",
    "     euler_est[0], model_name[0], eu_params[0],\\\n",
    "     euler_est[1], model_name[1], eu_params[1],\\\n",
    "     euler_est[2], model_name[2], eu_params[2],\\\n",
    "     euler_est[3], model_name[3], eu_params[3],\\\n",
    "     euler_est[4], model_name[4], eu_params[4],\\\n",
    "     euler_est[5], model_name[5], eu_params[5],\\\n",
    "     euler_est[6], model_name[6], eu_params[6]))\n",
    "\n",
    "print(\"The best model is {} \\\n",
    "    with param {}\".format(model_name[best_ind], eu_params[best_ind]))"
   ]
  },
  {
   "cell_type": "code",
   "execution_count": 29,
   "id": "0237b661",
   "metadata": {
    "colab": {
     "base_uri": "https://localhost:8080/"
    },
    "id": "0237b661",
    "outputId": "0a4e4562-bece-40aa-d964-bb9710719df5"
   },
   "outputs": [
    {
     "name": "stdout",
     "output_type": "stream",
     "text": [
      "For the best model CEV\n",
      "     params are:\n",
      "     [0.04196802 0.16557494 0.5840565  0.32146107],\n",
      "     [0.01505053 0.1421784  0.58305669 0.32235434],\n",
      "     [0.06825548 5.96908424 0.58271133 0.32263943]\n"
     ]
    }
   ],
   "source": [
    "print(\"For the best model {}\\n \\\n",
    "    params are:\\n \\\n",
    "    {},\\n \\\n",
    "    {},\\n \\\n",
    "    {}\".format(\n",
    "    model_name[best_ind],\\\n",
    "    kessler_params[best_ind],\\\n",
    "    shoji_ozaki_params[best_ind],\\\n",
    "    eu_params[best_ind]))"
   ]
  },
  {
   "cell_type": "code",
   "execution_count": 30,
   "id": "78a5e335",
   "metadata": {
    "id": "78a5e335"
   },
   "outputs": [],
   "source": [
    "shoji_ozaki_p = [0.01190742, 0.6541825, 0.57703004, 0.32514395]\n",
    "kessler_p     = [0.02011782, 0.13874663, 0.567096, 0.33594728]\n",
    "euler_p       = [0.06504598, 5.87897445, 0.57674668, 0.32538039]"
   ]
  },
  {
   "cell_type": "markdown",
   "id": "Uulh61FbwHvb",
   "metadata": {
    "id": "Uulh61FbwHvb"
   },
   "source": [
    "Task: Rewrite code and pass estimated parameters programmatically."
   ]
  },
  {
   "cell_type": "code",
   "execution_count": null,
   "id": "LzmNZ659wFkk",
   "metadata": {
    "id": "LzmNZ659wFkk"
   },
   "outputs": [],
   "source": [
    "# your code"
   ]
  },
  {
   "cell_type": "code",
   "execution_count": 21,
   "id": "c2f2e02b",
   "metadata": {
    "id": "c2f2e02b"
   },
   "outputs": [],
   "source": [
    "# Generate a CEV process with estimated parameters\n",
    "# Define auxiliary functions:\n",
    "def Wiener_proc(N, T):\n",
    "    W = np.zeros(N)\n",
    "    delta = T / N\n",
    "    sqrt_delta = np.sqrt(delta)\n",
    "    for i in range (1, N):\n",
    "        W[i] += W[i-1] + rnd.normal(0, sqrt_delta)\n",
    "    return W\n",
    "\n",
    "#  CEV process:\n",
    "def CEV_pr(S, kappa, mu, sigma, gamma, dt, dW):\n",
    "    dS = kappa * (mu - S) * dt + sigma * (S**gamma) * dW\n",
    "    return dS"
   ]
  },
  {
   "cell_type": "code",
   "execution_count": 22,
   "id": "45efecc7",
   "metadata": {
    "id": "45efecc7"
   },
   "outputs": [],
   "source": [
    "cW = [sample[i] - sample[i-1] for i in range(1, len(sample))]"
   ]
  },
  {
   "cell_type": "code",
   "execution_count": 35,
   "id": "6f82d19c",
   "metadata": {
    "colab": {
     "base_uri": "https://localhost:8080/",
     "height": 684
    },
    "id": "6f82d19c",
    "outputId": "708e0581-b0e4-4223-f385-228b04500f14"
   },
   "outputs": [
    {
     "name": "stderr",
     "output_type": "stream",
     "text": [
      "<ipython-input-21-73405076d682>:13: RuntimeWarning: invalid value encountered in scalar power\n",
      "  dS = kappa * (mu - S) * dt + sigma * (S**gamma) * dW\n"
     ]
    },
    {
     "data": {
      "image/png": "[encoded data removed]",
      "text/plain": [
       "<Figure size 600x300 with 1 Axes>"
      ]
     },
     "metadata": {},
     "output_type": "display_data"
    },
    {
     "data": {
      "image/png": "[encoded data removed]",
      "text/plain": [
       "<Figure size 600x300 with 1 Axes>"
      ]
     },
     "metadata": {},
     "output_type": "display_data"
    }
   ],
   "source": [
    "# Set data and generate the process:\n",
    "T = 60\n",
    "N = len(sample)\n",
    "\n",
    "S0 = sample[0]\n",
    "# Set params that were fitted:\n",
    "#kappa, mu, sigma, gamma = shoji_ozaki_p\n",
    "kappa, mu, sigma, gamma = kessler_p\n",
    "#kappa, mu, sigma, gamma = euler_p\n",
    "time_line, dt = np.linspace(0, T, N, retstep=True)\n",
    "W = Wiener_proc(N, T)\n",
    "cev_s, cev_k, cev_e = np.zeros(N), np.zeros(N), np.zeros(N)\n",
    "cev_s[0], cev_k[0], cev_e[0] = S0, S0, S0\n",
    "ecev = np.zeros(N)\n",
    "ecev[0] = S0\n",
    "\n",
    "for i in range(1, N):\n",
    "    dW = W[i] - W[i-1]\n",
    "    cev_s[i] = cev_s[i-1] + CEV_pr(cev_s[i-1], shoji_ozaki_p[0], shoji_ozaki_p[1], shoji_ozaki_p[2], shoji_ozaki_p[3], dt, dW)\n",
    "    cev_k[i] = cev_k[i-1] + CEV_pr(cev_k[i-1], kessler_p[0], kessler_p[1], kessler_p[2], kessler_p[3], dt, dW)\n",
    "    cev_e[i] = cev_e[i-1] + CEV_pr(cev_e[i-1], euler_p[0], euler_p[1], euler_p[2], euler_p[3], dt, dW)\n",
    "    ecev[i] = ecev[i-1] + CEV_pr(ecev[i-1], euler_p[0], euler_p[1], euler_p[2], euler_p[3], dt, cW[i-1])\n",
    "\n",
    "ax, figure = plt.subplots(figsize=(6, 3))\n",
    "plt.plot(time_line, cev_s, label=\"Fitted CEV process - Shouji\")\n",
    "plt.plot(time_line, cev_k, label=\"Fitted CEV process - Kessler\")\n",
    "plt.plot(time_line, cev_e, label=\"Fitted CEV process - Euler\")\n",
    "plt.title(\"Generated CEV\")\n",
    "plt.ylabel('Persent')\n",
    "plt.xlabel('Observations')\n",
    "plt.legend()\n",
    "plt.xlim(0, T)\n",
    "plt.grid()\n",
    "plt.show()\n",
    "\n",
    "ax, figure = plt.subplots(figsize=(6, 3))\n",
    "plt.plot(time_line, sample, label=\"Sample\")\n",
    "plt.plot(time_line, ecev, label='CEV used W')\n",
    "plt.title(\"Generated CEV\")\n",
    "plt.ylabel('Persent')\n",
    "plt.xlabel('Observations')\n",
    "plt.legend()\n",
    "plt.xlim(0, T)\n",
    "plt.grid()\n",
    "plt.show()"
   ]
  },
  {
   "cell_type": "markdown",
   "id": "y8lCps_a2JrQ",
   "metadata": {
    "id": "y8lCps_a2JrQ"
   },
   "source": [
    "Task. Generate a CKLS process with estimated parameters."
   ]
  },
  {
   "cell_type": "code",
   "execution_count": null,
   "id": "QWp8-93j2gSv",
   "metadata": {
    "id": "QWp8-93j2gSv"
   },
   "outputs": [],
   "source": [
    "# your code"
   ]
  },
  {
   "cell_type": "code",
   "execution_count": null,
   "id": "cf374311",
   "metadata": {
    "id": "cf374311",
    "scrolled": true
   },
   "outputs": [],
   "source": [
    "# a) fit using Euler method:\n",
    "\n",
    "# Choose several models:\n",
    "model = [BrownianMotion(), CEV(), CIR(), GeometricBM(), \\\n",
    "         IGBM(), OrnsteinUhlenbeck(), CKLS()]\n",
    "\n",
    "# Create parametrization templates:\n",
    "param_bounds = [[(0.01, 10), (0.01, 2)],                         # Brownian Motion\n",
    "                [(0.01, 10), (0.01, 10), (0.01, 10), (0.01, 2)], # CEV\n",
    "                [(0.01, 10), (0.01, 10),(0.01, 2)],              # CIR\n",
    "                [(0.01, 10), (0.01, 2)],                         # GBM\n",
    "                [(0.01, 10), (0.01, 10),(0.01, 2)],              # IGBM\n",
    "                [(0.01, 10), (0.01, 10),(0.01, 2)],              # OU\n",
    "                [(0.01, 10), (0.01, 10), (0.01, 10), (0.01, 2)]  # CKLS\n",
    "               ]\n",
    "\n",
    "param_guess  = [[0.01, 0.2],                                     # Brownian Motion\n",
    "                [0.01, 0.01, 0.01, 0.2],                         # CEV\n",
    "                [0.01, 0.01, 0.2],                               # CIR\n",
    "                [0.01, 0.2],                                     # GBM\n",
    "                [0.01, 0.01, 0.2],                               # IGBM\n",
    "                [0.01, 0.01, 0.2],                               # OU\n",
    "                [0.01, 0.01, 0.01, 0.2]                          # CKLS\n",
    "               ]\n",
    "\n",
    "#pb = param_bounds[0]\n",
    "#pg = np.array([1., 0.5])\n",
    "#m = BrownianMotion()\n",
    "\n",
    "# Set parameters for estimators:\n",
    "dt = 1. / 252\n",
    "K = 1\n",
    "eu_params = []\n",
    "oz_params = []\n",
    "so_params = []\n",
    "ks_params = []\n",
    "ex_params = []\n",
    "\n",
    "#euler_est = AnalyticalMLE(sample, param_bounds[0], dt, density=EulerDensity(model[0])).estimate_params(param_guess[0])\n",
    "\n",
    "for k in tqdm(range(K)):\n",
    "    seed = rnd.randint(1, 10000)\n",
    "    euler_est   = [AnalyticalMLE(sample, param_bounds[i], dt, density=EulerDensity(model[i])).estimate_params(param_guess[i]).params \\\n",
    "                 for i in range (len(param_bounds))];\n",
    "    ozaki_est   = [AnalyticalMLE(sample, param_bounds[i], dt, density=OzakiDensity(model[i])).estimate_params(param_guess[i]).params \\\n",
    "                 for i in range (len(param_bounds))];\n",
    "    shoji_est   = [AnalyticalMLE(sample, param_bounds[i], dt, density=ShojiOzakiDensity(model[i])).estimate_params(param_guess[i]).params \\\n",
    "                 for i in range (len(param_bounds))];\n",
    "    kessler_est = [AnalyticalMLE(sample, param_bounds[i], dt, density=KesslerDensity(model[i])).estimate_params(param_guess[i]).params \\\n",
    "                 for i in range (len(param_bounds))];\n",
    "    exact_est   = [AnalyticalMLE(sample, param_bounds[i], dt, density=EulerDensity(model[i])).estimate_params(param_guess[i]).params \\\n",
    "                 for i in range (len(param_bounds))];\n",
    "    eu_params.append(euler_est)\n",
    "    oz_params.append(ozaki_est)\n",
    "    so_params.append(shoji_est)\n",
    "    ks_params.append(kessler_est)\n",
    "    ex_params.append(exact_est)"
   ]
  },
  {
   "cell_type": "markdown",
   "id": "RzHSlgvrz9a_",
   "metadata": {
    "id": "RzHSlgvrz9a_"
   },
   "source": [
    "Task. Calculate the BIC and select the best model. Compare results with solution of Task 1."
   ]
  },
  {
   "cell_type": "code",
   "execution_count": null,
   "id": "vFeT9oyp0Ky2",
   "metadata": {
    "id": "vFeT9oyp0Ky2"
   },
   "outputs": [],
   "source": [
    "# your code"
   ]
  },
  {
   "cell_type": "code",
   "execution_count": 30,
   "id": "65b674a0",
   "metadata": {
    "id": "65b674a0"
   },
   "outputs": [],
   "source": [
    "# Implement multiprocessing approach for solving\n",
    "import multiprocessing\n",
    "def MLE_Estimator(i):\n",
    "    # a) fit using Kessler method:\n",
    "\n",
    "    # Choose several models:\n",
    "    model = [BrownianMotion(), CEV(), CIR(), GeometricBM(), \\\n",
    "             IGBM(), OrnsteinUhlenbeck(), CKLS()]\n",
    "\n",
    "    # Create parametrization templates:\n",
    "    param_bounds = [[(0.01, 10), (0.01, 2)],                         # Brownian Motion\n",
    "                    [(0.01, 10), (0.01, 10), (0.01, 10), (0.01, 2)], # CEV\n",
    "                    [(0.01, 10), (0.01, 10),(0.01, 2)],              # CIR\n",
    "                    [(0.01, 10), (0.01, 2)],                         # GBM\n",
    "                    [(0.01, 10), (0.01, 10),(0.01, 2)],              # IGBM\n",
    "                    [(0.01, 10), (0.01, 10),(0.01, 2)],              # OU\n",
    "                    [(0.01, 10), (0.01, 10), (0.01, 10), (0.01, 2)]  # CKLS\n",
    "                   ]\n",
    "\n",
    "    param_guess  = [[0.01, 0.2],                                     # Brownian Motion\n",
    "                    [0.01, 0.01, 0.01, 0.2],                         # CEV\n",
    "                    [0.01, 0.01, 0.2],                               # CIR\n",
    "                    [0.01, 0.2],                                     # GBM\n",
    "                    [0.01, 0.01, 0.2],                               # IGBM\n",
    "                    [0.01, 0.01, 0.2],                               # OU\n",
    "                    [0.01, 0.01, 0.01, 0.2]                          # CKLS\n",
    "                   ]\n",
    "\n",
    "    #pb = param_bounds[0]\n",
    "    #pg = np.array([1., 0.5])\n",
    "    #m = BrownianMotion()\n",
    "\n",
    "    # Set parameters for estimators:\n",
    "    dt = 1. / 252\n",
    "    K = 1\n",
    "    eu_params = []\n",
    "    oz_params = []\n",
    "    so_params = []\n",
    "    ks_params = []\n",
    "    ex_params = []\n",
    "\n",
    "    #euler_est = AnalyticalMLE(sample, param_bounds[0], dt, density=EulerDensity(model[0])).estimate_params(param_guess[0])\n",
    "\n",
    "    for k in tqdm(range(K)):\n",
    "        seed = rnd.randint(1, 10000)\n",
    "        euler_est   = [AnalyticalMLE(sample, param_bounds[i], dt, density=EulerDensity(model[i])).estimate_params(param_guess[i]).params \\\n",
    "                     for i in range (len(param_bounds))];\n",
    "        ozaki_est   = [AnalyticalMLE(sample, param_bounds[i], dt, density=OzakiDensity(model[i])).estimate_params(param_guess[i]).params \\\n",
    "                     for i in range (len(param_bounds))];\n",
    "        shoji_est   = [AnalyticalMLE(sample, param_bounds[i], dt, density=ShojiOzakiDensity(model[i])).estimate_params(param_guess[i]).params \\\n",
    "                     for i in range (len(param_bounds))];\n",
    "        kessler_est = [AnalyticalMLE(sample, param_bounds[i], dt, density=KesslerDensity(model[i])).estimate_params(param_guess[i]).params \\\n",
    "                     for i in range (len(param_bounds))];\n",
    "        exact_est   = [AnalyticalMLE(sample, param_bounds[i], dt, density=EulerDensity(model[i])).estimate_params(param_guess[i]).params \\\n",
    "                     for i in range (len(param_bounds))];\n",
    "        eu_params.append(euler_est)\n",
    "        oz_params.append(ozaki_est)\n",
    "        so_params.append(shoji_est)\n",
    "        ks_params.append(kessler_est)\n",
    "        ex_params.append(exact_est)\n",
    "    return [eu_params,\n",
    "            oz_params,\n",
    "            so_params,\n",
    "            ks_params,\n",
    "            ex_params]"
   ]
  },
  {
   "cell_type": "code",
   "execution_count": null,
   "id": "e4a0d0c9",
   "metadata": {
    "id": "e4a0d0c9"
   },
   "outputs": [],
   "source": [
    "# Run estimator with parallel calculating:\n",
    "K = 100\n",
    "i_range   = [i for i in range(100)]\n",
    "pool_obj = multiprocessing.Pool()\n",
    "answer = pool_obj.map(MLE_Estimator, i_range)"
   ]
  },
  {
   "cell_type": "markdown",
   "id": "b0jk6EBM3OAi",
   "metadata": {
    "id": "b0jk6EBM3OAi"
   },
   "source": [
    "Task 2. USD/Euro Exchange Rates.\n",
    "\n",
    "Fit a time series of USD/EUR exchange rates over the period Jan 1, 1999 to till now (daily observations)  by CEV, CIR, OU, CKLS models. Plot the historical daily time series and three time-discretization\n",
    "benchmarks:\n",
    "*   Kessler method,\n",
    "*   Shoji-Ozaki method,\n",
    "*   Euler method\n",
    "\n",
    "using code from previous labs. *The pymle and other libraries are prohibited.*\n",
    "\n",
    "The parameter estimates display in a table for each method. Calculate the AIC and BIC and select the best model. Compare your results with paper (Kirkby et.al., 2022), where period was from Jan 1, 1999 to May 21, 2021 (daily observations).\n",
    "\n",
    "Dataset: U.S./Euro Foreign Exchange Rate [DEXUSEU], retrieved from FRED, Federal Reserve Bank of St. Louis;\n",
    "https://fred.stlouisfed.org/series/DEXUSEU"
   ]
  },
  {
   "cell_type": "code",
   "execution_count": null,
   "id": "HxUXnydu6UuR",
   "metadata": {
    "id": "HxUXnydu6UuR"
   },
   "outputs": [],
   "source": [
    "# your code"
   ]
  },
  {
   "cell_type": "markdown",
   "id": "DuIC-NRk6SEK",
   "metadata": {
    "id": "DuIC-NRk6SEK"
   },
   "source": [
    "Task 3. U.S. Interest Rates.\n",
    "\n",
    "Fit a time series of IRates over the period  from 06/1964\n",
    "to 12/1989 (monthly data) by CEV, CIR, OU, CKLS models. Plot the historical daily time series and three time-discretization\n",
    "benchmarks:\n",
    "*   Kessler method,\n",
    "*   Shoji-Ozaki method,\n",
    "*   Euler method\n",
    "\n",
    "using code from previous labs. *The pymle and other libraries are prohibited.*\n",
    "\n",
    "The parameter estimates\n",
    "display in Table for each method. Calculate the AIC and BIC, and select the best model. Compare your results with paper by [Brouste et. al.](https://www.semanticscholar.org/paper/The-YUIMA-Project%3A-A-Computational-Framework-for-of-Brouste-Fukasawa/e9a4696779261dbeca55f316943307d7da5d3d1b) (page 43):\n",
    "\n",
    "$$dX_t = (2.08 - 0.26 X_t)dt + 0.13 X^{1.44}_t dW_t.$$\n",
    "\n",
    "Dataset: In order to obtain the data one can open browser, type the address https://rdrr.io/snippets/ and run the code in R language:\n",
    "\n",
    "\n",
    "\n",
    "```\n",
    "library(Ecdat)\n",
    "data(Irates)\n",
    "rates = Irates[, \"r1\"]; rates\n",
    "plot(rates)\n",
    "```\n",
    "\n"
   ]
  },
  {
   "cell_type": "code",
   "execution_count": null,
   "id": "VqPw09T792Aj",
   "metadata": {
    "id": "VqPw09T792Aj"
   },
   "outputs": [],
   "source": [
    "# your code"
   ]
  },
  {
   "cell_type": "markdown",
   "id": "di-BBbr2BH4E",
   "metadata": {
    "id": "di-BBbr2BH4E"
   },
   "source": [
    "Task 4.\n",
    "\n",
    "Take a dual-listed security (for instance, Apple, Google, Amazon), which trade simultaneously on two exchanges. Fit a time series of spread over the 5 years period (day data) by CEV, CIR, OU, CKLS models.\n",
    "\n",
    "For example, one can use the paper by [Bertram, 2009](https://https://www.sciencedirect.com/science/article/pii/S0378437109002829)\n",
    "where a spread constructed on the dual-listed security, ANZ Bank (ANZ). Calculate the AIC and BIC, and select the best model.\n",
    "\n",
    "Hint. Use refs for selection a dual-listed security. Calculate the AIC and BIC, and select the best model.\n",
    "\n",
    "https://live.euronext.com/en/product/equities/US0378331005-MTAH\n",
    "\n",
    "https://stockanalysis.com/list/indian-stocks-us/"
   ]
  },
  {
   "cell_type": "code",
   "execution_count": null,
   "id": "59KiwGeQCh8N",
   "metadata": {
    "id": "59KiwGeQCh8N"
   },
   "outputs": [],
   "source": [
    "# your code"
   ]
  }
 ],
 "metadata": {
  "colab": {
   "provenance": []
  },
  "kernelspec": {
   "display_name": "Python 3 (ipykernel)",
   "language": "python",
   "name": "python3"
  },
  "language_info": {
   "codemirror_mode": {
    "name": "ipython",
    "version": 3
   },
   "file_extension": ".py",
   "mimetype": "text/x-python",
   "name": "python",
   "nbconvert_exporter": "python",
   "pygments_lexer": "ipython3",
   "version": "3.7.12"
  }
 },
 "nbformat": 4,
 "nbformat_minor": 5
}
